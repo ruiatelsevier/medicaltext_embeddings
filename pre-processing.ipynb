{
 "cells": [
  {
   "cell_type": "code",
   "execution_count": null,
   "metadata": {},
   "outputs": [],
   "source": [
    "import pandas as pd\n",
    "from sqlalchemy import create_engine\n",
    "import string\n",
    "\n",
    "engine = create_engine(\"postgresql://localhost/mimic?user=xxxx&password=xxxx\") \n",
    "# user name and password needs to be modified based on the local setup of the postgress server  "
   ]
  },
  {
   "cell_type": "code",
   "execution_count": null,
   "metadata": {},
   "outputs": [],
   "source": [
    "total_row = 58929 ## use a few rows to test \n",
    "rowlimit = total_row\n",
    "fname = \"dis_t.txt\"\n",
    "gname = \"h_t.csv\"\n",
    "max_size = 1500\n",
    "\n",
    "\n",
    "def smart_truncate(content, length=max_size):\n",
    "    word = content.split()\n",
    "    if len(word) <= length:\n",
    "        return content\n",
    "    else:\n",
    "        return ' '.join(word[:length])\n",
    "    \n",
    "with open(gname, \"a\") as g:\n",
    "    g.write('HADM_ID\\n')\n",
    "\n",
    "\n",
    "df = pd.read_sql_query(\n",
    "    'select HADM_ID, text from mimic.mimiciii.noteevents where category=\\'Discharge summary\\'  offset ' + \n",
    "    str(rowlimit) + ' limit ''' + str(rowlimit),\n",
    "    con=engine)  # change limit number\n",
    "df = df.sort_values('HADM_ID').reset_index()\n",
    "df1 = df.groupby('HADM_ID').agg(lambda x: ''.join(x.unique()))\n",
    "df1 = df1.reset_index()\n",
    "\n",
    "with open(fname, \"a\") as f, open(gname, \"a\") as g:\n",
    "    for index, line in df1.iterrows():\n",
    "        t = \" \".join(line[1].split())\n",
    "        text = \"\".join([w for w in t if w not in string.punctuation])\n",
    "        t2 = text.lower()\n",
    "        ttrial = t2.split()\n",
    "        tt = [y for y in ttrial if not y.isnumeric()]\n",
    "        tfinal = \" \".join(tt)\n",
    "        ttrun = smart_truncate(tfinal)\n",
    "        f.write(str(tfinal) + '\\n')\n",
    "        g.write(str(line[0]) + '\\n')\n",
    "    "
   ]
  },
  {
   "cell_type": "code",
   "execution_count": null,
   "metadata": {},
   "outputs": [],
   "source": []
  }
 ],
 "metadata": {
  "kernelspec": {
   "display_name": "Python 3",
   "language": "python",
   "name": "python3"
  },
  "language_info": {
   "codemirror_mode": {
    "name": "ipython",
    "version": 3
   },
   "file_extension": ".py",
   "mimetype": "text/x-python",
   "name": "python",
   "nbconvert_exporter": "python",
   "pygments_lexer": "ipython3",
   "version": "3.7.4"
  }
 },
 "nbformat": 4,
 "nbformat_minor": 2
}
